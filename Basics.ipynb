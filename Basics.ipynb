{
 "cells": [
  {
   "cell_type": "markdown",
   "metadata": {},
   "source": [
    "Analysis of App Store Apps\n",
    "\n",
    "This project is inteded to give me experience cleaning, sorting, and analyzing a real world data set while using many of the real world toosl and methods for data analysis and data engineering. \n",
    "\n",
    "[Link](https://www.kaggle.com/lava18/google-play-store-apps) to the Google Play Dataset. \n",
    "\n",
    "[Link](https://www.kaggle.com/ramamet4/app-store-apple-data-set-10k-apps) to the App Store Dataset. "
   ]
  },
  {
   "cell_type": "code",
   "execution_count": 1,
   "metadata": {
    "collapsed": true
   },
   "outputs": [],
   "source": [
    "opened_file = open('AppleStore.csv')\n",
    "from csv import reader\n",
    "read_file = reader(opened_file)\n",
    "ios = list(read_file)"
   ]
  },
  {
   "cell_type": "code",
   "execution_count": 2,
   "metadata": {
    "collapsed": true
   },
   "outputs": [],
   "source": [
    "opened_file = open('googleplaystore.csv')\n",
    "from csv import reader\n",
    "read_file = reader(opened_file)\n",
    "g_apps = list(read_file)"
   ]
  },
  {
   "cell_type": "markdown",
   "metadata": {},
   "source": [
    "To make it easier to explore the two data sets, we'll first write a function named explore_data() that we can use repeatedly to explore rows in a more readable way. We'll also add an option for our function to show the number of rows and columns for any data set."
   ]
  },
  {
   "cell_type": "code",
   "execution_count": 3,
   "metadata": {
    "collapsed": false
   },
   "outputs": [
    {
     "name": "stdout",
     "output_type": "stream",
     "text": [
      "\n",
      "\n",
      "['App', 'Category', 'Rating', 'Reviews', 'Size', 'Installs', 'Type', 'Price', 'Content Rating', 'Genres', 'Last Updated', 'Current Ver', 'Android Ver']\n",
      "\n",
      "\n",
      "['Photo Editor & Candy Camera & Grid & ScrapBook', 'ART_AND_DESIGN', '4.1', '159', '19M', '10,000+', 'Free', '0', 'Everyone', 'Art & Design', 'January 7, 2018', '1.0.0', '4.0.3 and up']\n",
      "\n",
      "\n",
      "['Coloring book moana', 'ART_AND_DESIGN', '3.9', '967', '14M', '500,000+', 'Free', '0', 'Everyone', 'Art & Design;Pretend Play', 'January 15, 2018', '2.0.0', '4.0.3 and up']\n",
      "\n",
      "\n",
      "Number of rows: 10842\n",
      "Number of columns: 13\n"
     ]
    }
   ],
   "source": [
    "def explore_data(dataset, start, end, rows_and_columns=False):\n",
    "    dataset_slice = dataset[start:end]    \n",
    "    for row in dataset_slice:\n",
    "        print(row)\n",
    "        print('\\n') # adds a new (empty) line between rows\n",
    "        \n",
    "    if rows_and_columns:\n",
    "        print('Number of rows:', len(dataset))\n",
    "        print('Number of columns:', len(dataset[0]))\n",
    "\n",
    "#print(android_header)\n",
    "print('\\n')\n",
    "explore_data(g_apps, 0, 3, True)"
   ]
  },
  {
   "cell_type": "code",
   "execution_count": 4,
   "metadata": {
    "collapsed": false
   },
   "outputs": [
    {
     "name": "stdout",
     "output_type": "stream",
     "text": [
      "['389801252', 'Instagram', '113954816', 'USD', '0.0', '2161558', '1289', '4.5', '4.0', '10.23', '12+', 'Photo & Video', '37', '0', '29', '1']\n",
      "\n",
      "\n",
      "['529479190', 'Clash of Clans', '116476928', 'USD', '0.0', '2130805', '579', '4.5', '4.5', '9.24.12', '9+', 'Games', '38', '5', '18', '1']\n",
      "\n",
      "\n",
      "['420009108', 'Temple Run', '65921024', 'USD', '0.0', '1724546', '3842', '4.5', '4.0', '1.6.2', '9+', 'Games', '40', '5', '1', '1']\n"
     ]
    }
   ],
   "source": [
    "print(ios[2])\n",
    "print('\\n')\n",
    "print(ios[3])\n",
    "print('\\n')\n",
    "print(ios[4])"
   ]
  },
  {
   "cell_type": "code",
   "execution_count": 5,
   "metadata": {
    "collapsed": false
   },
   "outputs": [
    {
     "name": "stdout",
     "output_type": "stream",
     "text": [
      "['Coloring book moana', 'ART_AND_DESIGN', '3.9', '967', '14M', '500,000+', 'Free', '0', 'Everyone', 'Art & Design;Pretend Play', 'January 15, 2018', '2.0.0', '4.0.3 and up']\n",
      "\n",
      "\n",
      "['U Launcher Lite – FREE Live Cool Themes, Hide Apps', 'ART_AND_DESIGN', '4.7', '87510', '8.7M', '5,000,000+', 'Free', '0', 'Everyone', 'Art & Design', 'August 1, 2018', '1.2.4', '4.0.3 and up']\n",
      "\n",
      "\n",
      "['Sketch - Draw & Paint', 'ART_AND_DESIGN', '4.5', '215644', '25M', '50,000,000+', 'Free', '0', 'Teen', 'Art & Design', 'June 8, 2018', 'Varies with device', '4.2 and up']\n"
     ]
    }
   ],
   "source": [
    "print(g_apps[2])\n",
    "print('\\n')\n",
    "print(g_apps[3])\n",
    "print('\\n')\n",
    "print(g_apps[4])"
   ]
  },
  {
   "cell_type": "code",
   "execution_count": 6,
   "metadata": {
    "collapsed": false
   },
   "outputs": [
    {
     "name": "stdout",
     "output_type": "stream",
     "text": [
      "['Life Made WI-Fi Touchscreen Photo Frame', '1.9', '19', '3.0M', '1,000+', 'Free', '0', 'Everyone', '', 'February 11, 2018', '1.0.19', '4.0 and up']\n"
     ]
    }
   ],
   "source": [
    "print(g_apps[10473])\n",
    "#we'll be deleting this row because the rating is 19, ratings only go to 5. "
   ]
  },
  {
   "cell_type": "code",
   "execution_count": 7,
   "metadata": {
    "collapsed": true
   },
   "outputs": [],
   "source": [
    "del g_apps[10473]"
   ]
  },
  {
   "cell_type": "code",
   "execution_count": 8,
   "metadata": {
    "collapsed": false
   },
   "outputs": [
    {
     "name": "stdout",
     "output_type": "stream",
     "text": [
      "['Quick PDF Scanner + OCR FREE', 'Box', 'Google My Business', 'ZOOM Cloud Meetings', 'join.me - Simple Meetings', 'Box', 'Zenefits', 'Google Ads', 'Google My Business', 'Slack', 'FreshBooks Classic', 'Insightly CRM', 'QuickBooks Accounting: Invoicing & Expenses', 'HipChat - Chat Built for Teams', 'Xero Accounting Software', 'MailChimp - Email, Marketing Automation', 'Crew - Free Messaging and Scheduling', 'Asana: organize team projects', 'Google Analytics', 'AdWords Express', 'Accounting App - Zoho Books', 'Invoice & Time Tracking - Zoho', 'join.me - Simple Meetings', 'Invoice 2go — Professional Invoices and Estimates', 'SignEasy | Sign and Fill PDF and other Documents', 'Quick PDF Scanner + OCR FREE', 'Genius Scan - PDF Scanner', 'Tiny Scanner - PDF Scanner App', 'Fast Scanner : Free PDF Scan', 'Mobile Doc Scanner (MDScan) Lite', 'TurboScan: scan documents and receipts in PDF', 'Tiny Scanner Pro: PDF Doc Scan', 'Docs To Go™ Free Office Suite', 'OfficeSuite : Free Office + PDF Editor', 'Slack', 'QuickBooks Accounting: Invoicing & Expenses', 'WhatsApp Messenger', 'Messenger – Text and Video Chat for Free', 'imo free video calls and chat', 'Viber Messenger', 'Hangouts', 'WeChat', 'Telegram', 'Who', 'Google Voice', 'Android Messages', 'Firefox Focus: The privacy browser', 'Google Allo', 'Google Chrome: Fast & Secure', 'Firefox Browser fast & private', 'Puffin Web Browser', 'Opera Browser: Fast and Secure', 'Opera Mini - fast web browser', 'UC Browser Mini -Tiny Fast Private & Secure', 'UC Browser - Fast Download Private & Secure', 'Calls & Text by Mo+', 'Viber Messenger', 'Call Blocker', 'Gmail', 'Yahoo Mail – Stay Organized', 'Hangouts', 'imo free video calls and chat', 'free video calls and chat', 'Viber Messenger', 'Skype - free IM & video calls', 'WeChat', 'Glide - Video Chat Messenger', 'Talkray - Free Calls & Texts', 'LINE: Free Calls & Messages', 'KakaoTalk: Free Calls & Text', 'OkCupid Dating', 'CMB Free Dating App', 'Hily: Dating, Chat, Match, Meet & Hook up', 'Hinge: Dating & Relationships', 'BBW Dating & Plus Size Chat', 'Casual Dating & Adult Singles - Joyride', 'EliteSingles – Dating for Single Professionals', 'Clover Dating App', 'Moco - Chat, Meet People', 'Hot or Not - Find someone right now', 'Just She - Top Lesbian Dating', 'Once - Quality Matches Every day', 'Sudy – Meet Elite & Rich Single', 'muzmatch: Muslim & Arab Singles, Marriage & Dating', 'Chispa, the Dating App for Latino, Latina Singles', 'Blendr - Chat, Flirt & Meet', 'Find Real Love — YouLove Premium Dating', 'Cougar Dating Life : Date Older Women Sugar Mummy', 'stranger chat - anonymous chat', 'Millionaire Match: Rich Singles Dating App', 'Dating for 50 plus Mature Singles – FINALLY', 'Moco+ - Chat, Meet People', 'Chat Rooms, Avatars, Date - Galaxy', 'FastMeet: Chat, Dating, Love', 'Christian Dating For Free App', 'Meet24 - Love, Chat, Singles', 'Black White Interracial Dating - Interracial Match', 'Gay Sugar Daddy Dating & Hookup – Sudy Gay', 'Adult Dirty Emojis', 'Hide App, Private Dating, Safe Chat - PrivacyHider', 'Meet4U - Chat, Love, Singles!', '95Live -SG#1 Live Streaming App', 'Just She - Top Lesbian Dating', 'Hily: Dating, Chat, Match, Meet & Hook up', 'O-Star', 'Random Video Chat', 'Black People Meet Singles Date', 'Howlr', 'Free Dating & Flirt Chat - Choice of Love', 'Cardi B Live Stream Video Chat - Prank', 'Chat Kids - Chat Room For Kids', 'muzmatch: Muslim & Arab Singles, Marriage & Dating', 'BBW Dating & Plus Size Chat', 'Transenger – Ts Dating and Chat for Free', 'BBW Dating & Curvy Singles Chat- LargeFriends', 'MouseMingle', 'FlirtChat - ♥Free Dating/Flirting App♥', 'Live Talk - Free Text and Video Chat', 'Adult Dirty Emojis', 'Free Cam Girls - Live Webcam', 'Random Video Chat App With Strangers', 'Live Girls Talk - Free Video Chat', 'Girls Live Chat - Free Text & Video Chat', 'Free Dating App - Meet Local Singles - Flirt Chat', 'iPair-Meet, Chat, Dating', 'Free Dating Hook Up Messenger', 'Free Dating App - YoCutie - Flirt, Chat & Meet', 'Khan Academy', 'TED', 'Lumosity: #1 Brain Games & Cognitive Training App', 'Udemy - Online Courses', 'Khan Academy', 'TED', 'Duolingo: Learn Languages Free', 'Quizlet: Learn Languages & Vocab with Flashcards', 'Coursera: Online courses', 'Udemy - Online Courses', 'Udacity - Lifelong Learning', 'edX - Online Courses by Harvard, MIT & more', 'Lynda - Online Training Videos', 'Learn languages, grammar & vocabulary with Memrise', 'Brilliant', 'Babbel – Learn Languages', 'Duolingo: Learn Languages Free', 'Rosetta Stone: Learn to Speak & Read New Languages', 'Learn languages, grammar & vocabulary with Memrise', 'Learn English with Wlingua', 'Quizlet: Learn Languages & Vocab with Flashcards', 'Google Classroom', 'Duolingo: Learn Languages Free', 'Learn 50 languages', 'Mango Languages: Lovable Language Courses', 'Rosetta Stone: Learn to Speak & Read New Languages', 'Learn languages, grammar & vocabulary with Memrise', 'Babbel – Learn Languages', 'busuu: Learn Languages - Spanish, English & More', 'My Class Schedule: Timetable', 'Socratic - Math Answers & Homework Help', 'Google Classroom', 'ClassDojo', 'HelloTalk — Chat, Speak & Learn Foreign Languages', 'Quizlet: Learn Languages & Vocab with Flashcards', 'busuu: Learn Languages - Spanish, English & More', 'Rosetta Stone: Learn to Speak & Read New Languages', 'Movies by Flixster, with Rotten Tomatoes', 'IMDb Movies & TV', 'Netflix', 'IMDb Movies & TV', 'Netflix', 'Tubi TV - Free Movies & TV', 'Crunchyroll - Everything Anime', 'STARZ', 'Crackle - Free TV & Movies', 'CBS - Full Episodes & Live TV', 'Nick', 'Hulu: Stream TV, Movies & more', 'FOX NOW - On Demand & Live TV', 'The CW', 'HISTORY: Watch TV Show Full Episodes & Specials', 'HBO NOW: Stream TV & Movies', 'A&E - Watch Full Episodes of TV Shows', 'VH1', 'Lifetime - Watch Full Episodes & Original Movies', 'BET NOW - Watch Shows', 'Netflix', 'Tubi TV - Free Movies & TV', 'Crackle - Free TV & Movies', 'Crunchyroll - Everything Anime', 'Nick', 'STARZ', 'Hulu: Stream TV, Movies & more', 'Food Network', 'FOX NOW - On Demand & Live TV', 'Movies by Flixster, with Rotten Tomatoes', 'HISTORY: Watch TV Show Full Episodes & Specials', 'Viki: Asian TV Dramas & Movies', 'The CW', 'Univision NOW - Live TV and On Demand', 'HBO NOW: Stream TV & Movies', 'A&E - Watch Full Episodes of TV Shows', 'VH1', 'SHOWTIME', 'MTV', 'Lifetime - Watch Full Episodes & Original Movies', 'Comedy Central', 'BET NOW - Watch Shows', 'FOX', 'Telemundo Now', 'Viki: Asian TV Dramas & Movies', 'Nick', 'Fandango Movies - Times + Tickets', 'Google Pay', 'Wells Fargo Daily Change', 'Credit Karma', 'Robinhood - Investing, No Fees', 'Digit Save Money Automatically', 'Acorns - Invest Spare Change', 'Money Lover: Expense Tracker, Budget Planner', 'Mint: Budget, Bills, Finance', 'Simple - Better Banking', 'PayPal', 'Google Pay', 'Wells Fargo Mobile', 'Capital One® Mobile', 'Grubhub: Food Delivery', 'Postmates Food Delivery: Order Eats & Alcohol', \"Domino's Pizza USA\", 'Chick-fil-A', 'Zomato - Restaurant Finder and Food Delivery App', 'Run with Map My Run', 'Weight Loss Running by Verv', 'Nike+ Run Club', 'Runtastic Running App & Mile Tracker', '8fit Workouts & Meal Planner', 'Daily Yoga - Yoga Fitness Plans', 'Pocket Yoga', 'Calorie Counter - MyFitnessPal', 'Weight Loss Running by Verv', 'Nike+ Run Club', 'Seven - 7 Minute Workout Training Challenge', 'Weight Watchers Mobile', 'Walk with Map My Walk', 'Workout Trainer: fitness coach', 'Run with Map My Run', 'Nike Training Club - Workouts & Fitness Plans', 'Fitbit Coach', 'Calorie Counter - MyFitnessPal', 'Endomondo - Running & Walking', 'Runkeeper - GPS Track Run Walk', 'Nike+ Run Club', 'Runtastic Running App & Mile Tracker', 'Calorie Counter - MyFitnessPal', 'Lose It! - Calorie Counter', 'Calorie Counter - MyNetDiary', '10 Best Foods for You', 'MyPlate Calorie Tracker', 'Weight Loss Tracker - RecStyle', 'Calorie Counter by FatSecret', 'Calorie Counter - Macros', 'My Diet Diary Calorie Counter', 'Lark - 24/7 Health Coach', 'Weight Watchers Mobile', 'Calorie Counter & Diet Tracker', 'MealLogger-Photo Food Journal', 'Health and Nutrition Guide', 'Food Calorie Calculator', 'Calorie Counter - MyFitnessPal', 'Lose It! - Calorie Counter', 'Relax Meditation: Sleep with Sleep Sounds', 'Meditation Music - Relax, Yoga', '21-Day Meditation Experience', 'Fabulous: Motivate Me! Meditate, Relax, Sleep', 'Calm - Meditate, Sleep, Relax', 'Relax Melodies: Sleep Sounds', 'Simple Habit Meditation', 'Headspace: Meditation & Mindfulness', 'Daily Yoga - Yoga Fitness Plans', 'Houzz Interior Design Ideas', 'Mortgage by Zillow: Calculator & Rates', 'Redfin Real Estate', 'Apartment List: Housing, Apt, and Property Rentals', 'Realtor.com Real Estate: Homes for Sale and Rent', 'Trulia Real Estate & Rentals', 'Zillow: Find Houses for Sale & Apartments for Rent', 'Apartments & Rentals - Zillow', 'Trulia Rent Apartments & Homes', 'Apartments.com Rental Search', 'Houzz Interior Design Ideas', 'Vaniday - Beauty Booking App', 'StyleSeat', 'JOANN - Crafts & Coupons', 'Fashion in Vogue', 'Wheretoget: Shop in style', 'My Dressing - Fashion closet', 'Chictopia', 'Scarf Fashion Designer', 'Fashion in Vogue', 'Zara', 'Subway Surfers', 'ROBLOX', 'Pou', '8 Ball Pool', 'Clash of Clans', 'Candy Crush Saga', 'Plants vs. Zombies FREE', 'My Talking Angela', 'Bubble Shooter', 'Word Search', 'Candy Crush Soda Saga', 'Fishdom', 'Block Puzzle', 'Clash Royale', 'Sniper 3D Gun Shooter: Free Shooting Games - FPS', 'Granny', 'Galaxy Attack: Alien Shooter', 'Angry Birds Rio', 'Zombie Catchers', 'Zombie Hunter King', 'Temple Run 2', 'Zombie Tsunami', 'Farm Heroes Saga', 'Super Jim Jump - pixel 3d', 'slither.io', 'Angry Birds Classic', 'Flow Free', 'ROBLOX', 'Helix Jump', 'Subway Surfers', 'Candy Crush Saga', 'Toon Blast', 'Granny', '8 Ball Pool', 'Sniper 3D Gun Shooter: Free Shooting Games - FPS', 'slither.io', 'Temple Run 2', 'Kick the Buddy', 'Magic Tiles 3', 'Bowmasters', 'Wordscapes', 'Block Craft 3D: Building Simulator Games For Free', 'Helix Jump', 'PUBG MOBILE', 'Wordscapes', 'DRAGON BALL LEGENDS', 'ROBLOX', 'Candy Crush Saga', '8 Ball Pool', 'Harry Potter: Hogwarts Mystery', 'PUBG MOBILE', 'MARVEL Strike Force', 'Merge Dragons!', 'Honkai Impact 3rd', 'Candy Crush Saga', 'ROBLOX', '8 Ball Pool', 'Subway Surfers', 'Candy Crush Soda Saga', 'Zombie Hunter King', 'Bubble Shooter', 'Toon Blast', 'Toy Blast', 'Clash Royale', 'Clash of Clans', 'Farm Heroes Saga', 'Plants vs. Zombies FREE', 'Word Search', 'Block Puzzle', 'Super Jim Jump - pixel 3d', 'Pou', 'Temple Run 2', 'Flow Free', 'Homescapes', 'Wordscapes', 'My Talking Angela', 'slither.io', 'Cooking Fever', 'Gardenscapes', 'Fishdom', 'Galaxy Attack: Alien Shooter', 'Score! Hero', 'Zombie Catchers', 'Magic Tiles 3', 'Granny', 'Dream League Soccer 2018', 'Fruits Bomb', 'Angry Birds Classic', 'Talking Tom Gold Run', 'Bowmasters', 'My Talking Tom', 'Hill Climb Racing', 'Sniper 3D Gun Shooter: Free Shooting Games - FPS', 'Pixel Art: Color by Number Game', 'Rider', 'Zombie Tsunami', 'Garena Free Fire', 'Subway Surfers', 'Helix Jump', 'Temple Run 2', 'slither.io', 'Bowmasters', 'Talking Tom Gold Run', 'Zombie Catchers', 'Sniper 3D Gun Shooter: Free Shooting Games - FPS', 'Miraculous Ladybug & Cat Noir - The Official Game', 'Kick the Buddy', 'DRAGON BALL LEGENDS', 'Zombie Hunter King', 'Garena Free Fire', 'Candy Crush Saga', 'Plants vs. Zombies FREE', 'Block Puzzle', 'Helix Jump', '8 Ball Pool', 'Bubble Shooter', 'Solitaire', 'Traffic Racer', 'Hill Climb Racing', 'Earn to Die 2', 'Bubble Shooter 2', 'Flow Free', 'Zombie Catchers', 'Angry Birds Rio', 'Candy Crush Jelly Saga', 'Cut the Rope FULL FREE', 'Jewels Star: OZ adventure', 'Hungry Shark Evolution', 'Angry Birds Classic', 'Best Fiends - Free Puzzle Game', 'Hill Climb Racing 2', 'Swamp Attack', 'Bowmasters', 'Magic Tiles 3', 'Block Puzzle Classic Legend !', 'Pixel Art: Color by Number Game', 'Score! Hero', 'Zombie Tsunami', 'DEAD TARGET: FPS Zombie Apocalypse Survival Games', 'Word Search', 'Farm Heroes Saga', 'YouTube Kids', 'Candy Bomb', 'ROBLOX', 'Solitaire', 'Princess Coloring Book', 'Hello Kitty Nail Salon', 'Dog Run - Pet Dog Simulator', 'Coloring book moana', 'Bubble Shooter', 'Barbie™ Fashion Closet', 'Minion Rush: Despicable Me Official Game', 'No.Draw - Colors by Number 2018', 'Duolingo: Learn Languages Free', 'Super ABC! Learning games for kids! Preschool apps', 'ROBLOX', 'PJ Masks: Moonlight Heroes', 'Minion Rush: Despicable Me Official Game', 'Dog Run - Pet Dog Simulator', 'Hot Wheels: Race Off', 'Farming Simulator 14', 'Mcqueen Coloring pages', 'Monster Truck Driver & Racing', 'Strawberry Shortcake BerryRush', 'DC Super Hero Girls™', 'Toca Kitchen 2', 'DC Super Hero Girls™', 'Strawberry Shortcake BerryRush', 'Disney Magic Kingdoms: Build Your Own Magical Park', 'Toca Life: City', 'Papumba Academy - Fun Learning For Kids', 'Kids Balloon Pop Game Free 🎈', 'Sounds for Toddlers FREE', 'Elmo Calls by Sesame Street', 'Sago Mini Friends', 'Papumba Academy - Fun Learning For Kids', 'Tee and Mo Bath Time Free', 'Bita and the Animals - Pelos Ares', 'TO-FU Oh!SUSHI', 'DreamWorks Friends', 'Avokiddo Emotions', 'Nighty Night Circus', 'Sago Mini Babies', \"Dr. Panda & Toto's Treehouse\", 'ROBLOX', 'PlayKids - Educational cartoons and games for kids', 'YouTube Kids', 'Baby Panda Care', 'Monster High™', 'Duolingo: Learn Languages Free', 'Shopkins World!', 'DisneyNOW – TV Shows & Games', 'Equestria Girls', 'Frozen Free Fall', 'Nick', 'Thomas & Friends: Race On!', 'Inside Out Thought Bubbles', 'Sago Mini Friends', 'School of Dragons', 'Peak – Brain Games & Training', 'Period Tracker', 'Vargo Anesthesia Mega App', 'Monash Uni Low FODMAP Diet', 'mySugr: the blood sugar tracker made just for you', 'Human Anatomy Atlas 2018: Complete 3D Human Body', 'ASCCP Mobile', 'Paramedic Protocol Provider', '2017 EMRA Antibiotic Guide', 'Essential Anatomy 3', 'EMT PASS', 'Block Buddy', 'EMT Review Plus', 'Journal Club: Medicine', 'Pedi STAT', 'AnatomyMapp', 'Diabetes & Diet Tracker', 'A Manual of Acupuncture', 'PTA Content Master', 'Muscle Premium - Human Anatomy, Kinesiology, Bones', 'Cardiac diagnosis (heart rate, arrhythmia)', 'Medical ID - In Case of Emergency (ICE)', 'IBM Micromedex Drug Info', 'Advanced Comprehension Therapy', 'Hospitalist Handbook', 'Teladoc Member', 'Ada - Your Health Guide', 'Ovia Fertility Tracker & Ovulation Calculator', 'Youper - AI Therapy', 'MoodSpace', 'Super Hearing Super Ear Amplifier', 'Penn State Health OnDemand', 'ScriptSave WellRx Rx Discounts', 'Free Blood Pressure', 'All Mental disorders', 'Nurse Grid', 'JH Blood Pressure Monitor', 'Blood Pressure', 'RT 516 VET', 'Anthem Anywhere', 'Sway Medical', \"fred's Pharmacy\", 'Breastfeeding Tracker Baby Log', 'Banfield Pet Health Tracker', '1800 Contacts - Lens Store', 'TextNow - free text + calls', 'Tumblr', 'Snapchat', 'Instagram', 'Periscope - Live Video', 'Snapchat', 'Instagram', 'Pinterest', 'MeetMe: Chat & Meet New People', 'ooVoo Video Calls, Messaging & Stories', 'LinkedIn', 'Tango - Live Video Broadcast', 'SayHi Chat, Meet New People', 'Tapatalk - 100,000+ Forums', 'Badoo - Free Chat & Dating App', 'Nextdoor - Local neighborhood news & classifieds', 'MeetMe: Chat & Meet New People', 'Meetup', 'Text Free: WiFi Calling App', 'textPlus: Free Text & Calls', 'Meetup', 'POF Free Dating App', 'MeetMe: Chat & Meet New People', 'Tagged - Meet, Chat & Dating', 'LOVOO', 'SKOUT - Meet, Chat, Go Live', 'Badoo - Free Chat & Dating App', 'Jaumo Dating, Flirt & Live Video', 'SayHi Chat, Meet New People', 'Couple - Relationship App', 'Meetup', 'Wish - Shopping Made Fun', 'SnipSnap Coupon App', 'Extreme Coupon Finder', 'Checkout 51: Grocery coupons', 'The Coupons App', 'RetailMeNot - Coupons, Deals & Discount Shopping', 'Groupon - Shop Deals, Discounts & Coupons', 'Stocard - Rewards Cards Wallet', 'Extreme Coupon Finder', 'eBay: Buy & Sell this Summer - Discover Deals Now!', 'Checkout 51: Grocery coupons', 'Gyft - Mobile Gift Card Wallet', 'Shopkick: Free Gift Cards, Shop Rewards & Deals', 'The Coupons App', 'Shopular: Coupons, Weekly Ads & Shopping Deals', 'Wish - Shopping Made Fun', 'Carousell: Snap-Sell, Chat-Buy', 'Walmart', 'Ibotta: Cash Back Savings, Rewards & Coupons App', 'AliExpress - Smarter Shopping, Better Living', 'LivingSocial - Local Deals', 'Amazon Shopping', 'RetailMeNot - Coupons, Deals & Discount Shopping', 'Poshmark - Buy & Sell Fashion', 'Target - now with Cartwheel', 'ZALORA Fashion Shopping', 'eBay: Buy & Sell this Summer - Discover Deals Now!', 'Fancy', \"Modcloth – Unique Indie Women's Fashion & Style\", 'Gyft - Mobile Gift Card Wallet', \"JackThreads: Men's Shopping\", 'LivingSocial - Local Deals', 'Zappos – Shoe shopping made simple', 'Wanelo Shopping', 'Etsy: Handmade & Vintage Goods', 'Groupon - Shop Deals, Discounts & Coupons', 'eBay: Buy & Sell this Summer - Discover Deals Now!', \"JackThreads: Men's Shopping\", 'AliExpress - Smarter Shopping, Better Living', 'Slickdeals: Coupons & Shopping', 'Target - now with Cartwheel', 'Wish - Shopping Made Fun', 'Fancy', 'ASOS', 'Google Photos', 'Shutterfly: Free Prints, Photo Books, Cards, Gifts', 'InstaBeauty -Makeup Selfie Cam', 'B612 - Beauty & Filter Camera', 'BeautyPlus - Easy Photo Editor & Selfie Camera', 'YouCam Perfect - Selfie Photo Editor', 'Google Photos', 'Muzy - Share photos & collages', 'QuickPic - Photo Gallery with Google Drive Support', 'Flickr', 'Shutterfly: Free Prints, Photo Books, Cards, Gifts', 'Open Camera', 'Camera for Android', 'Cymera Camera- Photo Editor, Filter,Collage,Layout', 'Candy Camera - selfie, beauty camera, photo editor', 'Camera360: Selfie Photo Editor with Funny Sticker', 'Facetune - For Free', 'Photo Editor Selfie Camera Filter & Mirror Image', 'HD Camera for Android', 'Photo Editor Pro', 'YouCam Makeup - Magic Selfie Makeovers', 'Photo Editor-', 'Camera for Android', 'Photo Editor', 'Cymera Camera- Photo Editor, Filter,Collage,Layout', 'Adobe Photoshop Express:Photo Editor Collage Maker', 'BeautyPlus - Easy Photo Editor & Selfie Camera', 'InstaSize Photo Filters & Collage Editor', 'Candy Camera - selfie, beauty camera, photo editor', 'YouCam Perfect - Selfie Photo Editor', 'Camera360: Selfie Photo Editor with Funny Sticker', 'Facetune - For Free', 'Shutterfly: Free Prints, Photo Books, Cards, Gifts', 'BeautyPlus - Easy Photo Editor & Selfie Camera', 'CBS Sports App - Scores, News, Stats & Watch Live', 'Yahoo Fantasy Sports - #1 Rated Fantasy App', 'ESPN', 'NFL', 'Bleacher Report: sports news, scores, & highlights', 'ESPN Fantasy Sports', 'theScore: Live Sports Scores, News, Stats & Videos', 'CBS Sports App - Scores, News, Stats & Watch Live', 'ESPN', 'MLB At Bat', 'CBS Sports App - Scores, News, Stats & Watch Live', 'WatchESPN', 'Hole19: Golf GPS App, Rangefinder & Scorecard', 'Yahoo Fantasy Sports - #1 Rated Fantasy App', 'ESPN Fantasy Sports', 'CBS Sports Fantasy', 'ESPN', 'Bleacher Report: sports news, scores, & highlights', 'theScore: Live Sports Scores, News, Stats & Videos', 'CBS Sports App - Scores, News, Stats & Watch Live', 'ESPN', 'Bleacher Report: sports news, scores, & highlights', 'MLB At Bat', 'theScore: Live Sports Scores, News, Stats & Videos', 'CBS Sports App - Scores, News, Stats & Watch Live', 'Yahoo Sports - scores, stats, news, & highlights', 'WatchESPN', 'FotMob - Live Soccer Scores', 'Yahoo Fantasy Sports - #1 Rated Fantasy App', 'ESPN', 'NFL', 'US Open Tennis Championships 2018', 'Bleacher Report: sports news, scores, & highlights', 'MLB At Bat', 'FIFA - Tournaments, Soccer News & Live Scores', 'theScore: Live Sports Scores, News, Stats & Videos', 'Golfshot: Golf GPS + Tee Times', 'BBC Sport', 'CBS Sports App - Scores, News, Stats & Watch Live', 'Yahoo Sports - scores, stats, news, & highlights', 'WatchESPN', 'MLB Ballpark', 'FOX Sports: Live Streaming, Scores & News', 'Fantasy Football', 'PGA TOUR', 'UFC', 'trivago: Hotels & Travel', 'Expedia Hotels, Flights & Car Rental Travel Deals', 'TripAdvisor Hotels Flights Restaurants Attractions', 'Skyscanner', 'Booking.com Travel Deals', 'TripAdvisor Hotels Flights Restaurants Attractions', 'Priceline Hotel Deals, Rental Cars & Flights', 'United Airlines', 'Expedia Hotels, Flights & Car Rental Travel Deals', 'Southwest Airlines', 'Hopper - Watch & Book Flights', 'Fly Delta', 'KAYAK Flights, Hotels & Cars', 'American Airlines', 'Skyscanner', 'Priceline Hotel Deals, Rental Cars & Flights', 'trivago: Hotels & Travel', 'Expedia Hotels, Flights & Car Rental Travel Deals', 'KAYAK Flights, Hotels & Cars', 'Orbitz - Hotels, Flights & Package Deals', 'Skyscanner', 'Hotels.com: Book Hotel Rooms & Find Vacation Deals', 'Booking.com Travel Deals', 'Hostelworld: Hostels & Cheap Hotels Travel App', 'TripAdvisor Hotels Flights Restaurants Attractions', 'Airbnb', 'Skyscanner', 'HotelTonight: Book amazing deals at great hotels', 'Maps - Navigate & Explore', 'Google Street View', 'Calculator', 'Gboard - the Google Keyboard', 'ZEDGE™ Ringtones & Wallpapers', 'ZEDGE™ Ringtones & Wallpapers', 'Nova Launcher', 'Apex Launcher', 'Smart Launcher 5', 'Google Keep', 'Evernote – Organizer, Planner for Notes & Memos', 'ES File Explorer File Manager', 'Microsoft Word', 'Google Drive', 'Adobe Acrobat Reader', 'Google PDF Viewer', 'Microsoft Excel', 'Google Docs', 'Microsoft PowerPoint', 'Microsoft OneNote', 'Google Calendar', 'Google Keep', 'Wunderlist: To-Do List & Tasks', 'Evernote – Organizer, Planner for Notes & Memos', 'Any.do: To-do list, Calendar, Reminders & Planner', 'Todoist: To-do lists for task management & errands', 'Microsoft OneNote', 'Planner Pro-Personal Organizer', 'Google Calendar', 'Google Drive', 'Microsoft OneDrive', 'Dropbox', 'MX Player', 'Video Editor', 'Google News', 'Flipboard: News For Our Time', 'BBC News', 'Fox News – Breaking News, Live Video & News Alerts', 'USA TODAY', 'CNN Breaking US & World News', 'Twitter', 'BBC News', 'NPR News', 'Fox News – Breaking News, Live Video & News Alerts', 'Haystack TV: Local & World News - Free', 'ABC News - US & World News', 'USA TODAY', 'NBC News', 'The Wall Street Journal: Business & Market News', 'CNN Breaking US & World News', 'NYTimes - Latest News', 'Newsroom: News Worth Sharing', 'Google News', 'BuzzFeed: News, Tasty, Quizzes', 'Flipboard: News For Our Time', 'Snapchat', 'Flashlight', 'Pou', 'Agar.io', 'Angry Birds Classic', 'My Talking Tom', 'Netflix', 'Bubble Shooter', 'Adobe Acrobat Reader', 'Subway Surfers', 'LEGO® Juniors Create & Cruise', 'WhatsApp Messenger', 'Google Translate', 'Pokémon GO', 'Instagram', 'My Talking Angela', 'YouTube Kids', 'PAC-MAN', 'Colorfy: Coloring Book for Adults - Free', 'Toca Kitchen 2', 'Amazon Shopping', 'Chick-fil-A', 'YouTube', 'Flow Free', 'Microsoft Word', \"Alto's Adventure\", 'Zombie Tsunami', 'Facebook', 'B612 - Beauty & Filter Camera', 'Block Craft 3D: Building Simulator Games For Free', '8 Ball Pool', 'VPN Free - Betternet Hotspot VPN & Private Browser', 'EMT Tutor NREMT-B Study Guide', 'EMT-B Pocket Prep', 'UC Browser - Fast Download Private & Secure', 'Hungry Shark Evolution', 'Diary with lock', 'Clash of Clans', 'Clash Royale', 'C Programming', 'CppDroid - C/C++ IDE', 'Candy Crush Saga', 'Google Chrome: Fast & Secure', 'Learn C++', 'Hill Climb Racing', 'ZEDGE™ Ringtones & Wallpapers', 'Minion Rush: Despicable Me Official Game', 'Google Duo - High Quality Video Calls', 'Crossy Road', 'Temple Run 2', 'Dropbox', 'Sniper 3D Gun Shooter: Free Shooting Games - FPS', 'Plants vs. Zombies FREE', 'Dream League Soccer 2018', 'eBay: Buy & Sell this Summer - Discover Deals Now!', 'ESPN', 'ES File Explorer File Manager', 'Firefox Browser fast & private', 'E*TRADE Mobile', 'WWE', 'Amazon Kindle', 'Evernote – Organizer, Planner for Notes & Memos', 'Microsoft Edge', 'Microsoft Outlook', 'Pinterest', 'ClassDojo', 'The Coupons App', 'Ebook Reader', 'Gmail', 'Maps - Navigate & Explore', 'AliExpress - Smarter Shopping, Better Living', 'Flipkart Online Shopping App', 'Wish - Shopping Made Fun', 'Messenger – Text and Video Chat for Free', 'Facebook Lite', 'Messenger Lite: Free Calls & Messages', 'Twitter', 'LINE: Free Calls & Messages', 'imo beta free calls and text', 'Geometry Dash World', 'Google+', 'PUBG MOBILE', 'Gboard - the Google Keyboard', 'Granny', 'Google', 'Hangouts', 'G Cloud Backup', 'Google Drive', 'Helix Jump', 'H&M', 'H TV', 'Talking Ben the Dog', 'imo free video calls and chat', 'free video calls and chat', 'slither.io', 'POF Free Dating App', 'Skype - free IM & video calls', 'Sonic Dash', 'Text Free: WiFi Calling App', 'Talkatone: Free Texts, Calls & Phone Number', 'Textgram - write on photos', 'Zombie Catchers', 'Jetpack Joyride', 'Anger of stick 5 : zombie', 'Cut the Rope FULL FREE', 'Turbo FAST', 'K PLUS', 'PowerDirector Video Editor App: 4K, Slow Mo & More', 'Fuzzy Numbers: Pre-K Number Foundation', 'KakaoTalk: Free Calls & Text', 'LiveMe - Video chat, new friends, and make money', 'Talking Tom Gold Run', 'letgo: Buy & Sell Used Stuff, Cars & Real Estate', 'Love Balls', 'Last Day on Earth: Survival', 'Minecraft', 'MEGA', 'MX Player', 'I’m Expecting - Pregnancy App', 'Diabetes:M', 'Opera Mini - fast web browser', 'Opera Browser: Fast and Secure', 'O-Star', 'PicsArt Photo Studio: Collage Maker & Pic Editor', 'Quora', 'ROBLOX', 'SHAREit - Transfer & Share', 'Tumblr', 'Topbuzz: Breaking News, Videos & Funny GIFs', 'Twitch: Livestream Multiplayer Games & Esports', 'Telegram', 'myAT&T', 'Truecaller: Caller ID, SMS spam blocking & Dialer', 'Showtime Anytime', 'UC Browser Mini -Tiny Fast Private & Secure', 'Uber', 'Viber Messenger', 'VLC for Android', 'Vigo Video', 'WeChat', 'Wattpad 📖 Free Books', 'Waze - GPS, Maps, Traffic Alerts & Live Navigation', 'Dating App, Flirt & Chat : W-Match', 'WPS Office - Word, Docs, PDF, Note, Slide & Sheet', 'LINE WEBTOON - Free Comics', 'WhatsApp Business', 'We Heart It', 'TripAdvisor Hotels Flights Restaurants Attractions', 'Telegram X', 'Share Music & Transfer Files - Xender', 'Yandex Browser with Protect', 'YouTube Studio', 'Yahoo Mail – Stay Organized', 'PBS KIDS Video', 'YouTube Gaming', 'GO Keyboard - Emoticon keyboard, Free Theme, GIF', 'Zello PTT Walkie Talkie', 'Z Camera - Photo Editor, Beauty Selfie, Collage', 'Six Pack in 30 Days - Abs Workout', 'Angry Birds 2', 'Angry Birds Rio', 'AC - Tips & News for Android™', 'CM Browser - Ad Blocker , Fast Download , Privacy', 'Google Ads', 'Mobi Calculator free & AD free!', 'Flipp - Weekly Shopping', 'A&E - Watch Full Episodes of TV Shows', 'Camera FV-5 Lite', 'Cardiac diagnosis (heart rate, arrhythmia)', 'Open Camera', 'All Football - Latest News & Videos', 'Maricopa AH', 'Youper - AI Therapy', 'Animal Jam - Play Wild!', 'RULES OF SURVIVAL', 'Amazon for Tablets', 'Final Fantasy XV: A New Empire', 'The Sims™ FreePlay', 'Text free - Free Text + Call', 'Google Photos', '365Scores - Live Scores', 'DINO HUNTER: DEADLY SHORES', 'AP Mobile - Breaking News', 'Reuters News', 'Puffin Web Browser', 'AccuWeather: Daily Forecast & Live Weather Reports', 'Moovit: Bus Time & Train Time Live Info', 'Jurassic World™ Alive', 'Houzz Interior Design Ideas', 'NYTimes - Latest News', 'Overstock – Home Decor, Furniture Shopping', 'Google Voice', 'Choices: Stories You Play', 'Runtastic Sleep Better: Sleep Cycle & Smart Alarm', 'Google Pay', 'Ringtone Maker', 'Google Allo', 'Plants vs. Zombies™ Heroes', 'CM FILE MANAGER HD', 'MLB At Bat', 'HotelTonight: Book amazing deals at great hotels', 'realestate.com.au - Buy, Rent & Sell Property', 'Video Player All Format', 'DEER HUNTER 2018', 'Video Editor', 'Google Play Games', 'ai.type Free Emoji Keyboard', 'Manga AZ - Manga Comic Reader', 'British Airways', 'American Airlines', 'Anthem BC Anywhere', 'Transit: Real-Time Transit App', 'PMHNP-BC Pocket Prep', 'BeautyPlus - Easy Photo Editor & Selfie Camera', 'Bowmasters', 'Nick', 'mySugr: the blood sugar tracker made just for you', 'Backgrounds HD (Wallpapers)', 'Blur Image Background', 'Newegg Mobile', 'Moco - Chat, Meet People', 'Hot or Not - Find someone right now', 'MeetMe: Chat & Meet New People', 'TED', 'English Dictionary - Offline', 'OkCupid Dating', 'Mint: Budget, Bills, Finance', 'English Grammar Test', 'Daily Manga - Comic & Webtoon', 'BBM - Free Calls & Messages', 'BeyondMenu Food Delivery', 'NOOK: Read eBooks & Magazines', 'NOOK App for NOOK Devices', 'Badoo - Free Chat & Dating App', 'HBO GO: Stream with TV Package', 'No Crop & Square for Instagram', 'Hungry Shark World', 'iBP Blood Pressure', 'Blood Pressure', 'Blood Pressure Log - MyDiary', 'Blood Pressure(BP) Diary', 'BP Journal - Blood Pressure Diary', 'Blood Pressure Monitor', 'Blood Pressure Companion', 'Free Blood Pressure', 'High Blood Pressure Symptoms', 'QR Scanner & Barcode Scanner 2018', 'Camera FV-5', 'Camera MX - Free Photo & Video Camera', 'Bleacher Report: sports news, scores, & highlights', 'Cardboard', 'Kick the Buddy', 'Maps & GPS Navigation — OsmAnd', 'Beautiful Widgets Pro', 'Beautiful Widgets Free', 'HD Widgets', 'Color by Number – New Coloring Book', 'Photo Editor by Aviary', 'UNICORN - Color By Number & Pixel Art Coloring', 'Elmo Calls by Sesame Street', '420 BZ Budeze Delivery', 'BZWBK24 mobile', 'Zoosk Dating App: Meet Singles', 'Cricbuzz - Live Cricket Scores & News', 'Cheapflights – Flight Search', 'Chrome Beta', 'Chrome Dev', 'CJmall', 'Credit Karma', 'Castle Clash: Heroes of the Empire US', 'CM Launcher 3D - Theme, Wallpapers, Efficient', 'CM Locker - Security Lockscreen', 'CM Flashlight (Compass, SOS)', 'Ruler', 'QuickPic - Photo Gallery with Google Drive Support', 'Cartoon Network App', 'LEGO® TV', 'DisneyNOW – TV Shows & Games', 'Brit + Co', 'CT Scan Cross Sectional Anatomy', 'Shadow Fight 2', 'Curriculum vitae App CV Builder Free Resume Maker', 'The CW', 'CW Seed', 'Hulu: Stream TV, Movies & more', 'Cymera Camera- Photo Editor, Filter,Collage,Layout', 'Camera360 Lite - Selfie Camera', 'Mapy.cz - Cycling & Hiking offline maps', 'Face Filter, Selfie Editor - Sweet Camera', 'Metal Soldiers 2', \"COOKING MAMA Let's Cook!\", 'Run Sausage Run!', 'Knife Hit', 'DRAGON BALL LEGENDS', 'DC Comics', 'DC Super Hero Girls™', 'MARVEL Contest of Champions', 'MARVEL Strike Force', 'wetter.com - Weather and Radar', 'Babbel – Learn Languages', 'CallApp: Caller ID, Blocker & Phone Call Recorder', 'LINE Camera - Photo editor', 'Racing in Car 2', 'Google PDF Viewer', 'Periscope - Live Video', 'Dungeon Hunter Champions: Epic Online Action RPG', 'Red Bull TV: Live Sports, Music & Entertainment', 'Idle Heroes', 'Duolingo: Learn Languages Free', 'Free phone calls, free texting SMS on free number', 'Phone Tracker : Family Locator', 'My Photo Keyboard', 'Whoscall - Caller ID & Block', 'Google Sheets', 'Video Downloader', 'Google Docs', 'Any.do: To-do list, Calendar, Reminders & Planner', 'Notepad & To do list', 'Polaris Office - Word, Docs, Sheets, Slide, PDF', 'Google Keep', 'Do It Later: Tasks & To-Dos', 'Todoist: To-do lists for task management & errands', 'To-Do Calendar Planner', 'Wunderlist: To-Do List & Tasks', 'TickTick: To Do List with Reminder, Day Planner', 'ColorNote Notepad Notes', 'Apex Launcher', 'Dude Perfect 2', 'Dairy Queen', 'SONIC Drive-In', \"McDonald's\", 'Wendy’s – Food and Offers', \"Dunkin' Donuts\", 'SUBWAY®', 'Panera Bread', 'Starbucks', \"Dr. Panda & Toto's Treehouse\", 'Cache Cleaner-DU Speed Booster (booster & cleaner)', 'DU Browser—Browse fast & fun', 'Real Racing 3', 'Equestria Girls', 'My Little Pony Celebration', 'Miraculous Ladybug & Cat Noir - The Official Game', 'My Little Pony: Harmony Quest', 'PJ Masks: Moonlight Heroes', 'The Emirates App', 'Phogy, 3D Camera', 'Weather by eltiempo.es', 'The Game of Life', 'Spanish English Translator', 'Human Anatomy Atlas 2018: Complete 3D Human Body', \"Game for KIDS: KIDS match'em\", 'CBS Sports App - Scores, News, Stats & Watch Live', 'Yahoo Fantasy Sports - #1 Rated Fantasy App', 'Dictionary - Merriam-Webster', 'Edmodo', 'busuu: Learn Languages - Spanish, English & More', 'Chess Free', 'Oxford Dictionary of English : Free', 'Masha and the Bear Child Games', 'Frozen Free Fall', 'Episode - Choose Your Story', 'The NBC App - Watch Live TV and Full Episodes', 'Moto File Manager', 'HBO NOW: Stream TV & Movies', 'Moneycontrol – Stocks, Sensex, Mutual Funds, IPO', 'CNBC: Breaking Business News & Live Market Data', 'Google Earth', 'Groupon - Shop Deals, Discounts & Coupons', 'Google News', 'Amino: Communities and Chats', 'Nike Training Club - Workouts & Fitness Plans', 'Hangouts Dialer - Call Phones', 'Offline Maps & Navigation', 'Strawberry Shortcake Ice Cream Island', 'Home Workout - No Equipment', 'Home Security Camera WardenCam - reuse old phones', 'Food Network', 'Web Browser for Android', 'Airway Ex - Intubate. Anesthetize. Train.', 'FilterGrid - Cam&Photo Editor', 'Messages, Text and Video Chat for Messenger', 'All Social Networks', 'Premier League - Official App', 'Farm Heroes Saga', 'ESPN Fantasy Sports', 'Fallout Shelter', 'Facebook Pages Manager', 'Facebook Ads Manager', 'Who Viewed My Facebook Profile - Stalkers Visitors', 'The 5th Stand', 'Garena Free Fire', 'osmino Wi-Fi: free WiFi', 'Fun Kid Racing - Motocross', 'Podcast App: Free & Offline Podcasts by Player FM', 'Motorola FM Radio', 'FarmersOnly Dating', 'Firefox Focus: The privacy browser', 'FP Notebook', 'Slickdeals: Coupons & Shopping', 'AAFP']\n",
      "1181\n"
     ]
    }
   ],
   "source": [
    "#it appears that the google play app data set has some duplicates. \n",
    "\n",
    "duplicate_apps = []\n",
    "unique_apps = []\n",
    "\n",
    "for app in g_apps:\n",
    "    name = app[0]\n",
    "    if name in unique_apps:\n",
    "        duplicate_apps.append(name)\n",
    "    else:\n",
    "        unique_apps.append(name)\n",
    "        \n",
    "print(duplicate_apps)\n",
    "print(len(duplicate_apps))"
   ]
  },
  {
   "cell_type": "markdown",
   "metadata": {},
   "source": [
    "There are 1181 duplicate apps. We're going to remove dulpicates based on their ratings. The more ratings they have the fresher the data is so we'll be deleting all of the duplicates except for the duplicate with the highest number of ratings. "
   ]
  },
  {
   "cell_type": "markdown",
   "metadata": {},
   "source": [
    "Removing Duplicates Part 2. "
   ]
  },
  {
   "cell_type": "code",
   "execution_count": 9,
   "metadata": {
    "collapsed": false
   },
   "outputs": [
    {
     "name": "stdout",
     "output_type": "stream",
     "text": [
      "10841\n",
      "9659\n"
     ]
    }
   ],
   "source": [
    "reviews_max = {}\n",
    "\n",
    "for app in g_apps[1:]:\n",
    "    name = app[0]\n",
    "    n_reviews = float(app[3])\n",
    "    if name in reviews_max and reviews_max[name] < n_reviews:\n",
    "        reviews_max[name] = n_reviews\n",
    "    if name not in reviews_max:\n",
    "        reviews_max[name] = n_reviews\n",
    "        \n",
    "#dictionary check\n",
    "print(len(g_apps))\n",
    "print(len(reviews_max))\n",
    "#9659 is the expected length"
   ]
  },
  {
   "cell_type": "code",
   "execution_count": 10,
   "metadata": {
    "collapsed": false
   },
   "outputs": [
    {
     "name": "stdout",
     "output_type": "stream",
     "text": [
      "['Photo Editor & Candy Camera & Grid & ScrapBook', 'ART_AND_DESIGN', '4.1', '159', '19M', '10,000+', 'Free', '0', 'Everyone', 'Art & Design', 'January 7, 2018', '1.0.0', '4.0.3 and up']\n"
     ]
    }
   ],
   "source": [
    "print(g_apps[1])"
   ]
  },
  {
   "cell_type": "code",
   "execution_count": 11,
   "metadata": {
    "collapsed": false
   },
   "outputs": [
    {
     "name": "stdout",
     "output_type": "stream",
     "text": [
      "9659\n"
     ]
    }
   ],
   "source": [
    "android_clean = []\n",
    "already_added = []\n",
    "\n",
    "for app in g_apps[1:]:\n",
    "    name = app[0]\n",
    "    n_reviews = float(app[3])\n",
    "    \n",
    "    if (n_reviews == reviews_max[name]) and (name not in already_added):\n",
    "        android_clean.append(app)\n",
    "        already_added.append(name)\n",
    "        \n",
    "print(len(android_clean))\n",
    "#expecting 9659"
   ]
  },
  {
   "cell_type": "code",
   "execution_count": 12,
   "metadata": {
    "collapsed": false
   },
   "outputs": [],
   "source": [
    "def asci_or_not(input_string):\n",
    "        counter = 0\n",
    "        for char in input_string:\n",
    "            if ord(char) > 127:\n",
    "                counter += 1\n",
    "                \n",
    "        if counter > 3:\n",
    "            return False\n",
    "        else:\n",
    "            return True"
   ]
  },
  {
   "cell_type": "code",
   "execution_count": 13,
   "metadata": {
    "collapsed": false
   },
   "outputs": [
    {
     "name": "stdout",
     "output_type": "stream",
     "text": [
      "True\n",
      "False\n",
      "True\n",
      "True\n"
     ]
    }
   ],
   "source": [
    "print(asci_or_not('Instagram'))\n",
    "print(asci_or_not('爱奇艺PPS -《欢乐颂2》电视剧热播'))\n",
    "print(asci_or_not('Docs To Go™ Free Office Suite'))\n",
    "print(asci_or_not('Instachat 😜'))"
   ]
  },
  {
   "cell_type": "code",
   "execution_count": 14,
   "metadata": {
    "collapsed": false
   },
   "outputs": [],
   "source": [
    "ios_english = []\n",
    "g_english = []\n",
    "\n",
    "for app in ios:\n",
    "    name = app[1]\n",
    "    if asci_or_not(name):\n",
    "        ios_english.append(app)\n",
    "        \n",
    "        \n",
    "for app in g_apps:\n",
    "    name = app[0]\n",
    "    if asci_or_not(name):\n",
    "        g_english.append(app)\n",
    "#I'll have to use the discovery function here to double check this. "
   ]
  },
  {
   "cell_type": "code",
   "execution_count": 15,
   "metadata": {
    "collapsed": false
   },
   "outputs": [
    {
     "data": {
      "text/plain": [
       "10796"
      ]
     },
     "execution_count": 15,
     "metadata": {},
     "output_type": "execute_result"
    }
   ],
   "source": [
    "len(g_english)"
   ]
  },
  {
   "cell_type": "code",
   "execution_count": 16,
   "metadata": {
    "collapsed": false
   },
   "outputs": [
    {
     "data": {
      "text/plain": [
       "6184"
      ]
     },
     "execution_count": 16,
     "metadata": {},
     "output_type": "execute_result"
    }
   ],
   "source": [
    "len(ios_english)"
   ]
  },
  {
   "cell_type": "code",
   "execution_count": 17,
   "metadata": {
    "collapsed": false
   },
   "outputs": [
    {
     "name": "stdout",
     "output_type": "stream",
     "text": [
      "['id', 'track_name', 'size_bytes', 'currency', 'price', 'rating_count_tot', 'rating_count_ver', 'user_rating', 'user_rating_ver', 'ver', 'cont_rating', 'prime_genre', 'sup_devices.num', 'ipadSc_urls.num', 'lang.num', 'vpp_lic']\n",
      "\n",
      "\n",
      "['284882215', 'Facebook', '389879808', 'USD', '0.0', '2974676', '212', '3.5', '3.5', '95.0', '4+', 'Social Networking', '37', '1', '29', '1']\n",
      "\n",
      "\n",
      "['389801252', 'Instagram', '113954816', 'USD', '0.0', '2161558', '1289', '4.5', '4.0', '10.23', '12+', 'Photo & Video', '37', '0', '29', '1']\n",
      "\n",
      "\n",
      "Number of rows: 6184\n",
      "Number of columns: 16\n"
     ]
    }
   ],
   "source": [
    "explore_data(ios_english, 0, 3, True)"
   ]
  },
  {
   "cell_type": "code",
   "execution_count": 18,
   "metadata": {
    "collapsed": false
   },
   "outputs": [
    {
     "name": "stdout",
     "output_type": "stream",
     "text": [
      "['App', 'Category', 'Rating', 'Reviews', 'Size', 'Installs', 'Type', 'Price', 'Content Rating', 'Genres', 'Last Updated', 'Current Ver', 'Android Ver']\n",
      "\n",
      "\n",
      "['Photo Editor & Candy Camera & Grid & ScrapBook', 'ART_AND_DESIGN', '4.1', '159', '19M', '10,000+', 'Free', '0', 'Everyone', 'Art & Design', 'January 7, 2018', '1.0.0', '4.0.3 and up']\n",
      "\n",
      "\n",
      "['Coloring book moana', 'ART_AND_DESIGN', '3.9', '967', '14M', '500,000+', 'Free', '0', 'Everyone', 'Art & Design;Pretend Play', 'January 15, 2018', '2.0.0', '4.0.3 and up']\n",
      "\n",
      "\n",
      "Number of rows: 10796\n",
      "Number of columns: 13\n"
     ]
    }
   ],
   "source": [
    "explore_data(g_english, 0, 3, True)"
   ]
  },
  {
   "cell_type": "code",
   "execution_count": 19,
   "metadata": {
    "collapsed": false
   },
   "outputs": [
    {
     "data": {
      "text/plain": [
       "3222"
      ]
     },
     "execution_count": 19,
     "metadata": {},
     "output_type": "execute_result"
    }
   ],
   "source": [
    "ios_free = []\n",
    "g_free = []\n",
    "\n",
    "for app in ios_english:\n",
    "    price = app[4]\n",
    "    if price == '0.0':\n",
    "        ios_free.append(app)\n",
    "        \n",
    "len(ios_free)"
   ]
  },
  {
   "cell_type": "code",
   "execution_count": 20,
   "metadata": {
    "collapsed": false
   },
   "outputs": [
    {
     "data": {
      "text/plain": [
       "9999"
      ]
     },
     "execution_count": 20,
     "metadata": {},
     "output_type": "execute_result"
    }
   ],
   "source": [
    "for app in g_english:\n",
    "    price = app[7]\n",
    "    if price == '0':\n",
    "        g_free.append(app)\n",
    "        \n",
    "len(g_free)"
   ]
  },
  {
   "cell_type": "markdown",
   "metadata": {},
   "source": [
    "We're looking for the most common app genres on both the Apple App store and the Google play store. "
   ]
  },
  {
   "cell_type": "code",
   "execution_count": 21,
   "metadata": {
    "collapsed": false
   },
   "outputs": [],
   "source": [
    "def freq_table(dataset, index):\n",
    "    freq_tb = {}\n",
    "    total = 0\n",
    "    \n",
    "    for item in dataset:\n",
    "        total += 1\n",
    "        value = item[index]\n",
    "        if value in freq_tb:\n",
    "            freq_tb[value] +=1 \n",
    "        else:\n",
    "            freq_tb[value] = 1\n",
    "                    \n",
    "    tb_percent = {}\n",
    "    for key in freq_tb:\n",
    "        percentage = (freq_tb[key] / total) * 100\n",
    "        tb_percent[key] = percentage\n",
    "                    \n",
    "    return tb_percent\n",
    "                    \n",
    "def display_table(dataset, index):\n",
    "    table = freq_table(dataset, index)\n",
    "    table_display = []\n",
    "    for key in table:\n",
    "        key_val_as_tuple = (table[key], key)\n",
    "        table_display.append(key_val_as_tuple)\n",
    "\n",
    "    table_sorted = sorted(table_display, reverse = True)\n",
    "    for entry in table_sorted:\n",
    "        print(entry[1], ':', entry[0])"
   ]
  },
  {
   "cell_type": "code",
   "execution_count": 22,
   "metadata": {
    "collapsed": false
   },
   "outputs": [
    {
     "name": "stdout",
     "output_type": "stream",
     "text": [
      "FAMILY : 17.67176717671767\n",
      "GAME : 10.591059105910592\n",
      "TOOLS : 7.640764076407641\n",
      "BUSINESS : 4.45044504450445\n",
      "PRODUCTIVITY : 3.95039503950395\n",
      "SPORTS : 3.6003600360036003\n",
      "LIFESTYLE : 3.5903590359035906\n",
      "COMMUNICATION : 3.5903590359035906\n",
      "MEDICAL : 3.5403540354035403\n",
      "FINANCE : 3.49034903490349\n",
      "HEALTH_AND_FITNESS : 3.2503250325032504\n",
      "PHOTOGRAPHY : 3.1203120312031203\n",
      "PERSONALIZATION : 3.08030803080308\n",
      "SOCIAL : 2.9202920292029204\n",
      "NEWS_AND_MAGAZINES : 2.7702770277027704\n",
      "SHOPPING : 2.5702570257025705\n",
      "TRAVEL_AND_LOCAL : 2.4602460246024602\n",
      "DATING : 2.2702270227022705\n",
      "BOOKS_AND_REFERENCE : 1.9901990199019903\n",
      "VIDEO_PLAYERS : 1.7001700170017002\n",
      "EDUCATION : 1.5101510151015103\n",
      "ENTERTAINMENT : 1.4701470147014701\n",
      "MAPS_AND_NAVIGATION : 1.3001300130013\n",
      "FOOD_AND_DRINK : 1.25012501250125\n",
      "HOUSE_AND_HOME : 0.88008800880088\n",
      "LIBRARIES_AND_DEMO : 0.8400840084008401\n",
      "AUTO_AND_VEHICLES : 0.8200820082008201\n",
      "WEATHER : 0.7400740074007401\n",
      "EVENTS : 0.6300630063006301\n",
      "ART_AND_DESIGN : 0.6100610061006101\n",
      "COMICS : 0.59005900590059\n",
      "PARENTING : 0.58005800580058\n",
      "BEAUTY : 0.53005300530053\n"
     ]
    }
   ],
   "source": [
    "display_table(g_free, 1) #category"
   ]
  },
  {
   "cell_type": "code",
   "execution_count": 23,
   "metadata": {
    "collapsed": false
   },
   "outputs": [
    {
     "name": "stdout",
     "output_type": "stream",
     "text": [
      "Tools : 7.630763076307631\n",
      "Entertainment : 6.0006000600060005\n",
      "Education : 5.1305130513051305\n",
      "Business : 4.45044504450445\n",
      "Productivity : 3.95039503950395\n",
      "Sports : 3.74037403740374\n",
      "Communication : 3.5903590359035906\n",
      "Lifestyle : 3.5803580358035805\n",
      "Medical : 3.5403540354035403\n",
      "Finance : 3.49034903490349\n",
      "Action : 3.4103410341034106\n",
      "Health & Fitness : 3.2503250325032504\n",
      "Photography : 3.1203120312031203\n",
      "Personalization : 3.08030803080308\n",
      "Social : 2.9202920292029204\n",
      "News & Magazines : 2.7702770277027704\n",
      "Shopping : 2.5702570257025705\n",
      "Travel & Local : 2.45024502450245\n",
      "Dating : 2.2702270227022705\n",
      "Arcade : 2.0002000200020005\n",
      "Books & Reference : 1.9901990199019903\n",
      "Simulation : 1.8801880188018802\n",
      "Casual : 1.84018401840184\n",
      "Video Players & Editors : 1.6801680168016802\n",
      "Maps & Navigation : 1.3001300130013\n",
      "Food & Drink : 1.25012501250125\n",
      "Puzzle : 1.21012101210121\n",
      "Racing : 0.9500950095009502\n",
      "Strategy : 0.9300930093009301\n",
      "House & Home : 0.88008800880088\n",
      "Role Playing : 0.87008700870087\n",
      "Libraries & Demo : 0.8400840084008401\n",
      "Auto & Vehicles : 0.8200820082008201\n",
      "Weather : 0.7400740074007401\n",
      "Events : 0.6300630063006301\n",
      "Adventure : 0.6200620062006201\n",
      "Comics : 0.58005800580058\n",
      "Art & Design : 0.54005400540054\n",
      "Beauty : 0.53005300530053\n",
      "Parenting : 0.44004400440044\n",
      "Education;Education : 0.4300430043004301\n",
      "Card : 0.41004100410041006\n",
      "Educational;Education : 0.38003800380038005\n",
      "Casino : 0.38003800380038005\n",
      "Trivia : 0.37003700370037007\n",
      "Board : 0.35003500350035005\n",
      "Educational : 0.33003300330033003\n",
      "Word : 0.29002900290029\n",
      "Entertainment;Music & Video : 0.27002700270027\n",
      "Casual;Pretend Play : 0.25002500250025006\n",
      "Music : 0.21002100210021002\n",
      "Casual;Action & Adventure : 0.2000200020002\n",
      "Racing;Action & Adventure : 0.19001900190019003\n",
      "Puzzle;Brain Games : 0.17001700170017\n",
      "Educational;Pretend Play : 0.14001400140014\n",
      "Action;Action & Adventure : 0.14001400140014\n",
      "Casual;Brain Games : 0.13001300130013002\n",
      "Arcade;Action & Adventure : 0.12001200120012002\n",
      "Simulation;Action & Adventure : 0.11001100110011\n",
      "Adventure;Action & Adventure : 0.11001100110011\n",
      "Entertainment;Brain Games : 0.08000800080008001\n",
      "Education;Pretend Play : 0.08000800080008001\n",
      "Board;Brain Games : 0.08000800080008001\n",
      "Parenting;Education : 0.07000700070007\n",
      "Casual;Creativity : 0.07000700070007\n",
      "Art & Design;Creativity : 0.07000700070007\n",
      "Role Playing;Action & Adventure : 0.06000600060006001\n",
      "Parenting;Music & Video : 0.06000600060006001\n",
      "Educational;Brain Games : 0.06000600060006001\n",
      "Role Playing;Pretend Play : 0.05000500050005\n",
      "Puzzle;Action & Adventure : 0.05000500050005\n",
      "Education;Music & Video : 0.05000500050005\n",
      "Education;Creativity : 0.05000500050005\n",
      "Educational;Action & Adventure : 0.040004000400040006\n",
      "Education;Brain Games : 0.040004000400040006\n",
      "Education;Action & Adventure : 0.040004000400040006\n",
      "Video Players & Editors;Music & Video : 0.030003000300030006\n",
      "Simulation;Pretend Play : 0.030003000300030006\n",
      "Entertainment;Creativity : 0.030003000300030006\n",
      "Entertainment;Action & Adventure : 0.030003000300030006\n",
      "Educational;Creativity : 0.030003000300030006\n",
      "Video Players & Editors;Creativity : 0.020002000200020003\n",
      "Sports;Action & Adventure : 0.020002000200020003\n",
      "Puzzle;Creativity : 0.020002000200020003\n",
      "Music;Music & Video : 0.020002000200020003\n",
      "Entertainment;Pretend Play : 0.020002000200020003\n",
      "Casual;Music & Video : 0.020002000200020003\n",
      "Casual;Education : 0.020002000200020003\n",
      "Board;Action & Adventure : 0.020002000200020003\n",
      "Art & Design;Pretend Play : 0.020002000200020003\n",
      "Art & Design;Action & Adventure : 0.020002000200020003\n",
      "Adventure;Education : 0.020002000200020003\n",
      "Trivia;Education : 0.010001000100010001\n",
      "Travel & Local;Action & Adventure : 0.010001000100010001\n",
      "Tools;Education : 0.010001000100010001\n",
      "Strategy;Education : 0.010001000100010001\n",
      "Strategy;Creativity : 0.010001000100010001\n",
      "Strategy;Action & Adventure : 0.010001000100010001\n",
      "Simulation;Education : 0.010001000100010001\n",
      "Role Playing;Brain Games : 0.010001000100010001\n",
      "Racing;Pretend Play : 0.010001000100010001\n",
      "Puzzle;Education : 0.010001000100010001\n",
      "Parenting;Brain Games : 0.010001000100010001\n",
      "Music & Audio;Music & Video : 0.010001000100010001\n",
      "Lifestyle;Pretend Play : 0.010001000100010001\n",
      "Lifestyle;Education : 0.010001000100010001\n",
      "Health & Fitness;Education : 0.010001000100010001\n",
      "Health & Fitness;Action & Adventure : 0.010001000100010001\n",
      "Entertainment;Education : 0.010001000100010001\n",
      "Communication;Creativity : 0.010001000100010001\n",
      "Comics;Creativity : 0.010001000100010001\n",
      "Card;Brain Games : 0.010001000100010001\n",
      "Card;Action & Adventure : 0.010001000100010001\n",
      "Books & Reference;Education : 0.010001000100010001\n",
      "Arcade;Pretend Play : 0.010001000100010001\n"
     ]
    }
   ],
   "source": [
    "display_table(g_free, 9) #genre"
   ]
  },
  {
   "cell_type": "code",
   "execution_count": 24,
   "metadata": {
    "collapsed": false
   },
   "outputs": [
    {
     "name": "stdout",
     "output_type": "stream",
     "text": [
      "Games : 58.16263190564867\n",
      "Entertainment : 7.883302296710118\n",
      "Photo & Video : 4.9658597144630665\n",
      "Education : 3.662321539416512\n",
      "Social Networking : 3.2898820608317814\n",
      "Shopping : 2.60707635009311\n",
      "Utilities : 2.5139664804469275\n",
      "Sports : 2.1415270018621975\n",
      "Music : 2.0484171322160147\n",
      "Health & Fitness : 2.0173805090006205\n",
      "Productivity : 1.7380509000620732\n",
      "Lifestyle : 1.5828677839851024\n",
      "News : 1.3345747982619491\n",
      "Travel : 1.2414649286157666\n",
      "Finance : 1.1173184357541899\n",
      "Weather : 0.8690254500310366\n",
      "Food & Drink : 0.8069522036002483\n",
      "Reference : 0.5586592178770949\n",
      "Business : 0.5276225946617008\n",
      "Book : 0.4345127250155183\n",
      "Navigation : 0.186219739292365\n",
      "Medical : 0.186219739292365\n",
      "Catalogs : 0.12414649286157665\n"
     ]
    }
   ],
   "source": [
    "display_table(ios_free, 11) #prime_genre"
   ]
  },
  {
   "cell_type": "markdown",
   "metadata": {},
   "source": [
    "The frequency tables we analyzed on the previous screen showed us that the App Store is dominated by apps designed for fun, while Google Play shows a more balanced landscape of both practical and fun apps."
   ]
  },
  {
   "cell_type": "code",
   "execution_count": 30,
   "metadata": {
    "collapsed": false
   },
   "outputs": [
    {
     "name": "stdout",
     "output_type": "stream",
     "text": [
      "Lifestyle  :  16485.764705882353\n",
      "Medical  :  612.0\n",
      "Reference  :  74942.11111111111\n",
      "Games  :  22788.6696905016\n",
      "Social Networking  :  71548.34905660378\n",
      "Catalogs  :  4004.0\n",
      "Book  :  39758.5\n",
      "Sports  :  23008.898550724636\n",
      "Navigation  :  86090.33333333333\n",
      "Utilities  :  18684.456790123455\n",
      "Education  :  7003.983050847458\n",
      "Productivity  :  21028.410714285714\n",
      "Business  :  7491.117647058823\n",
      "Music  :  57326.530303030304\n",
      "Travel  :  28243.8\n",
      "Shopping  :  26919.690476190477\n",
      "Weather  :  52279.892857142855\n",
      "News  :  21248.023255813954\n",
      "Entertainment  :  14029.830708661417\n",
      "Food & Drink  :  33333.92307692308\n",
      "Photo & Video  :  28441.54375\n",
      "Finance  :  31467.944444444445\n",
      "Health & Fitness  :  23298.015384615384\n"
     ]
    }
   ],
   "source": [
    "ios_genres = freq_table(ios_free, 11)\n",
    "\n",
    "for genre in ios_genres:\n",
    "    total = 0\n",
    "    len_genre = 0\n",
    "    for app in ios_free:\n",
    "        genre_app = app[11]\n",
    "        if genre_app == genre:\n",
    "            n_ratings = float(app[5])\n",
    "            total += n_ratings\n",
    "            len_genre += 1\n",
    "    avg_n_ratings = total / len_genre\n",
    "    print(genre, \" : \", avg_n_ratings)\n",
    "            "
   ]
  },
  {
   "cell_type": "markdown",
   "metadata": {},
   "source": [
    "It seems to me that Navigation, Reference, Social Networking, and Weather have the highest average number of ratings. "
   ]
  },
  {
   "cell_type": "code",
   "execution_count": 31,
   "metadata": {
    "collapsed": false
   },
   "outputs": [
    {
     "name": "stdout",
     "output_type": "stream",
     "text": [
      "1,000,000+ : 15.52155215521552\n",
      "10,000,000+ : 12.49124912491249\n",
      "100,000+ : 10.72107210721072\n",
      "10,000+ : 9.160916091609161\n",
      "1,000+ : 7.520752075207521\n",
      "5,000,000+ : 7.500750075007501\n",
      "100+ : 6.200620062006201\n",
      "500,000+ : 5.270527052705271\n",
      "50,000+ : 4.3004300430043\n",
      "100,000,000+ : 4.09040904090409\n",
      "5,000+ : 4.07040704070407\n",
      "10+ : 3.1503150315031503\n",
      "500+ : 2.9002900290029\n",
      "50,000,000+ : 2.8902890289028904\n",
      "50+ : 1.7101710171017102\n",
      "500,000,000+ : 0.7200720072007201\n",
      "5+ : 0.7000700070007001\n",
      "1,000,000,000+ : 0.58005800580058\n",
      "1+ : 0.45004500450045004\n",
      "0+ : 0.040004000400040006\n",
      "0 : 0.010001000100010001\n"
     ]
    }
   ],
   "source": [
    "display_table(g_free, 5) # the installs column"
   ]
  },
  {
   "cell_type": "markdown",
   "metadata": {},
   "source": [
    "We'll be converting the installs column from strings to floats, which means we'll be removing the plus symbols, commas, "
   ]
  },
  {
   "cell_type": "code",
   "execution_count": null,
   "metadata": {
    "collapsed": true
   },
   "outputs": [],
   "source": []
  }
 ],
 "metadata": {
  "kernelspec": {
   "display_name": "Python 3",
   "language": "python",
   "name": "python3"
  },
  "language_info": {
   "codemirror_mode": {
    "name": "ipython",
    "version": 3
   },
   "file_extension": ".py",
   "mimetype": "text/x-python",
   "name": "python",
   "nbconvert_exporter": "python",
   "pygments_lexer": "ipython3",
   "version": "3.4.3"
  }
 },
 "nbformat": 4,
 "nbformat_minor": 2
}
